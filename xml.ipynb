{
  "nbformat": 4,
  "nbformat_minor": 0,
  "metadata": {
    "colab": {
      "provenance": [],
      "authorship_tag": "ABX9TyPj9U62lrfbQcXgal9FCwdo",
      "include_colab_link": true
    },
    "kernelspec": {
      "name": "python3",
      "display_name": "Python 3"
    },
    "language_info": {
      "name": "python"
    }
  },
  "cells": [
    {
      "cell_type": "markdown",
      "metadata": {
        "id": "view-in-github",
        "colab_type": "text"
      },
      "source": [
        "<a href=\"https://colab.research.google.com/github/ucmancoplu/hu-bby162-2024/blob/main/xml.ipynb\" target=\"_parent\"><img src=\"https://colab.research.google.com/assets/colab-badge.svg\" alt=\"Open In Colab\"/></a>"
      ]
    },
    {
      "cell_type": "code",
      "execution_count": 1,
      "metadata": {
        "colab": {
          "base_uri": "https://localhost:8080/",
          "height": 426
        },
        "id": "4C4ayW-mjcTT",
        "outputId": "f67bce2f-de18-4ec5-bf74-cab7c44993dc"
      },
      "outputs": [
        {
          "output_type": "stream",
          "name": "stdout",
          "text": [
            "\n",
            "--- AEK Yönetim Sistemi ---\n",
            "1. Yeni Kayıt Ekle\n",
            "2. Kayıtları Listele\n",
            "3. Arama Yap\n",
            "4. Çıkış\n"
          ]
        },
        {
          "output_type": "error",
          "ename": "KeyboardInterrupt",
          "evalue": "Interrupted by user",
          "traceback": [
            "\u001b[0;31m---------------------------------------------------------------------------\u001b[0m",
            "\u001b[0;31mKeyboardInterrupt\u001b[0m                         Traceback (most recent call last)",
            "\u001b[0;32m<ipython-input-1-2adfe7946611>\u001b[0m in \u001b[0;36m<cell line: 88>\u001b[0;34m()\u001b[0m\n\u001b[1;32m     87\u001b[0m \u001b[0;34m\u001b[0m\u001b[0m\n\u001b[1;32m     88\u001b[0m \u001b[0;32mif\u001b[0m \u001b[0m__name__\u001b[0m \u001b[0;34m==\u001b[0m \u001b[0;34m\"__main__\"\u001b[0m\u001b[0;34m:\u001b[0m\u001b[0;34m\u001b[0m\u001b[0;34m\u001b[0m\u001b[0m\n\u001b[0;32m---> 89\u001b[0;31m     \u001b[0mmain\u001b[0m\u001b[0;34m(\u001b[0m\u001b[0;34m)\u001b[0m\u001b[0;34m\u001b[0m\u001b[0;34m\u001b[0m\u001b[0m\n\u001b[0m",
            "\u001b[0;32m<ipython-input-1-2adfe7946611>\u001b[0m in \u001b[0;36mmain\u001b[0;34m()\u001b[0m\n\u001b[1;32m     72\u001b[0m         \u001b[0mprint\u001b[0m\u001b[0;34m(\u001b[0m\u001b[0;34m\"3. Arama Yap\"\u001b[0m\u001b[0;34m)\u001b[0m\u001b[0;34m\u001b[0m\u001b[0;34m\u001b[0m\u001b[0m\n\u001b[1;32m     73\u001b[0m         \u001b[0mprint\u001b[0m\u001b[0;34m(\u001b[0m\u001b[0;34m\"4. Çıkış\"\u001b[0m\u001b[0;34m)\u001b[0m\u001b[0;34m\u001b[0m\u001b[0;34m\u001b[0m\u001b[0m\n\u001b[0;32m---> 74\u001b[0;31m         \u001b[0mchoice\u001b[0m \u001b[0;34m=\u001b[0m \u001b[0minput\u001b[0m\u001b[0;34m(\u001b[0m\u001b[0;34m\"Seçiminiz: \"\u001b[0m\u001b[0;34m)\u001b[0m\u001b[0;34m\u001b[0m\u001b[0;34m\u001b[0m\u001b[0m\n\u001b[0m\u001b[1;32m     75\u001b[0m \u001b[0;34m\u001b[0m\u001b[0m\n\u001b[1;32m     76\u001b[0m         \u001b[0;32mif\u001b[0m \u001b[0mchoice\u001b[0m \u001b[0;34m==\u001b[0m \u001b[0;34m\"1\"\u001b[0m\u001b[0;34m:\u001b[0m\u001b[0;34m\u001b[0m\u001b[0;34m\u001b[0m\u001b[0m\n",
            "\u001b[0;32m/usr/local/lib/python3.10/dist-packages/ipykernel/kernelbase.py\u001b[0m in \u001b[0;36mraw_input\u001b[0;34m(self, prompt)\u001b[0m\n\u001b[1;32m    849\u001b[0m                 \u001b[0;34m\"raw_input was called, but this frontend does not support input requests.\"\u001b[0m\u001b[0;34m\u001b[0m\u001b[0;34m\u001b[0m\u001b[0m\n\u001b[1;32m    850\u001b[0m             )\n\u001b[0;32m--> 851\u001b[0;31m         return self._input_request(str(prompt),\n\u001b[0m\u001b[1;32m    852\u001b[0m             \u001b[0mself\u001b[0m\u001b[0;34m.\u001b[0m\u001b[0m_parent_ident\u001b[0m\u001b[0;34m,\u001b[0m\u001b[0;34m\u001b[0m\u001b[0;34m\u001b[0m\u001b[0m\n\u001b[1;32m    853\u001b[0m             \u001b[0mself\u001b[0m\u001b[0;34m.\u001b[0m\u001b[0m_parent_header\u001b[0m\u001b[0;34m,\u001b[0m\u001b[0;34m\u001b[0m\u001b[0;34m\u001b[0m\u001b[0m\n",
            "\u001b[0;32m/usr/local/lib/python3.10/dist-packages/ipykernel/kernelbase.py\u001b[0m in \u001b[0;36m_input_request\u001b[0;34m(self, prompt, ident, parent, password)\u001b[0m\n\u001b[1;32m    893\u001b[0m             \u001b[0;32mexcept\u001b[0m \u001b[0mKeyboardInterrupt\u001b[0m\u001b[0;34m:\u001b[0m\u001b[0;34m\u001b[0m\u001b[0;34m\u001b[0m\u001b[0m\n\u001b[1;32m    894\u001b[0m                 \u001b[0;31m# re-raise KeyboardInterrupt, to truncate traceback\u001b[0m\u001b[0;34m\u001b[0m\u001b[0;34m\u001b[0m\u001b[0m\n\u001b[0;32m--> 895\u001b[0;31m                 \u001b[0;32mraise\u001b[0m \u001b[0mKeyboardInterrupt\u001b[0m\u001b[0;34m(\u001b[0m\u001b[0;34m\"Interrupted by user\"\u001b[0m\u001b[0;34m)\u001b[0m \u001b[0;32mfrom\u001b[0m \u001b[0;32mNone\u001b[0m\u001b[0;34m\u001b[0m\u001b[0;34m\u001b[0m\u001b[0m\n\u001b[0m\u001b[1;32m    896\u001b[0m             \u001b[0;32mexcept\u001b[0m \u001b[0mException\u001b[0m \u001b[0;32mas\u001b[0m \u001b[0me\u001b[0m\u001b[0;34m:\u001b[0m\u001b[0;34m\u001b[0m\u001b[0;34m\u001b[0m\u001b[0m\n\u001b[1;32m    897\u001b[0m                 \u001b[0mself\u001b[0m\u001b[0;34m.\u001b[0m\u001b[0mlog\u001b[0m\u001b[0;34m.\u001b[0m\u001b[0mwarning\u001b[0m\u001b[0;34m(\u001b[0m\u001b[0;34m\"Invalid Message:\"\u001b[0m\u001b[0;34m,\u001b[0m \u001b[0mexc_info\u001b[0m\u001b[0;34m=\u001b[0m\u001b[0;32mTrue\u001b[0m\u001b[0;34m)\u001b[0m\u001b[0;34m\u001b[0m\u001b[0;34m\u001b[0m\u001b[0m\n",
            "\u001b[0;31mKeyboardInterrupt\u001b[0m: Interrupted by user"
          ]
        }
      ],
      "source": [
        "import xml.etree.ElementTree as ET\n",
        "import os\n",
        "\n",
        "# XML dosyası oluşturma veya yükleme\n",
        "def load_or_create_xml(file_name=\"aek_metadata.xml\"):\n",
        "    if os.path.exists(file_name):\n",
        "        tree = ET.parse(file_name)\n",
        "        root = tree.getroot()\n",
        "    else:\n",
        "        root = ET.Element(\"AEKRecords\")\n",
        "        tree = ET.ElementTree(root)\n",
        "        tree.write(file_name, encoding=\"utf-8\", xml_declaration=True)\n",
        "    return tree, root\n",
        "\n",
        "# Yeni kayıt ekleme\n",
        "def add_record(root, file_name=\"aek_metadata.xml\"):\n",
        "    record = ET.SubElement(root, \"AEKRecord\")\n",
        "    metadata = {\n",
        "        \"Title\": input(\"Title (Başlık): \"),\n",
        "        \"Subject\": input(\"Subject (Anahtar Kelimeler): \"),\n",
        "        \"Description\": input(\"Description (Özet Bilgi): \"),\n",
        "        \"Creator\": input(\"Creator (Oluşturan): \"),\n",
        "        \"License\": input(\"License (Lisans): \"),\n",
        "        \"Language\": input(\"Language (Dil): \"),\n",
        "        \"Identifier\": input(\"Identifier (URL): \"),\n",
        "    }\n",
        "\n",
        "    for key, value in metadata.items():\n",
        "        ET.SubElement(record, key).text = value\n",
        "\n",
        "    # XML'i kaydetme\n",
        "    tree = ET.ElementTree(root)\n",
        "    tree.write(file_name, encoding=\"utf-8\", xml_declaration=True)\n",
        "    print(\"\\nKayıt başarıyla eklendi!\")\n",
        "\n",
        "# Kayıtları listeleme\n",
        "def list_records(root):\n",
        "    print(\"\\nKayıtlar:\")\n",
        "    for idx, record in enumerate(root.findall(\"AEKRecord\"), start=1):\n",
        "        print(f\"\\nKayıt {idx}:\")\n",
        "        for child in record:\n",
        "            print(f\"{child.tag}: {child.text}\")\n",
        "\n",
        "# Arama ve filtreleme\n",
        "def search_records(root):\n",
        "    search_term = input(\"Arama Terimi: \").lower()\n",
        "    results = []\n",
        "    for record in root.findall(\"AEKRecord\"):\n",
        "        for child in record:\n",
        "            if search_term in (child.text or \"\").lower():\n",
        "                results.append(record)\n",
        "                break\n",
        "\n",
        "    if results:\n",
        "        print(\"\\nArama Sonuçları:\")\n",
        "        for idx, record in enumerate(results, start=1):\n",
        "            print(f\"\\nKayıt {idx}:\")\n",
        "            for child in record:\n",
        "                print(f\"{child.tag}: {child.text}\")\n",
        "    else:\n",
        "        print(\"\\nEşleşen kayıt bulunamadı.\")\n",
        "\n",
        "# Ana menü\n",
        "def main():\n",
        "    file_name = \"aek_metadata.xml\"\n",
        "    tree, root = load_or_create_xml(file_name)\n",
        "\n",
        "    while True:\n",
        "        print(\"\\n--- AEK Yönetim Sistemi ---\")\n",
        "        print(\"1. Yeni Kayıt Ekle\")\n",
        "        print(\"2. Kayıtları Listele\")\n",
        "        print(\"3. Arama Yap\")\n",
        "        print(\"4. Çıkış\")\n",
        "        choice = input(\"Seçiminiz: \")\n",
        "\n",
        "        if choice == \"1\":\n",
        "            add_record(root, file_name)\n",
        "        elif choice == \"2\":\n",
        "            list_records(root)\n",
        "        elif choice == \"3\":\n",
        "            search_records(root)\n",
        "        elif choice == \"4\":\n",
        "            print(\"Çıkış yapılıyor...\")\n",
        "            break\n",
        "        else:\n",
        "            print(\"Geçersiz seçim, lütfen tekrar deneyin.\")\n",
        "\n",
        "if __name__ == \"__main__\":\n",
        "    main()\n"
      ]
    }
  ]
}