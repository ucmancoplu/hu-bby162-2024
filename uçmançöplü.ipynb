{
  "nbformat": 4,
  "nbformat_minor": 0,
  "metadata": {
    "colab": {
      "provenance": [],
      "authorship_tag": "ABX9TyMqto+FEdYHuTmf4ZWjiDu0",
      "include_colab_link": true
    },
    "kernelspec": {
      "name": "python3",
      "display_name": "Python 3"
    },
    "language_info": {
      "name": "python"
    }
  },
  "cells": [
    {
      "cell_type": "markdown",
      "metadata": {
        "id": "view-in-github",
        "colab_type": "text"
      },
      "source": [
        "<a href=\"https://colab.research.google.com/github/ucmancoplu/hu-bby162-2024/blob/main/u%C3%A7man%C3%A7%C3%B6pl%C3%BC.ipynb\" target=\"_parent\"><img src=\"https://colab.research.google.com/assets/colab-badge.svg\" alt=\"Open In Colab\"/></a>"
      ]
    },
    {
      "cell_type": "code",
      "execution_count": null,
      "metadata": {
        "colab": {
          "base_uri": "https://localhost:8080/"
        },
        "id": "UQ2jgembKw14",
        "outputId": "8ddb79f2-c266-4a48-8512-fbcadbb7ff89"
      },
      "outputs": [
        {
          "metadata": {
            "tags": null
          },
          "name": "stdout",
          "output_type": "stream",
          "text": [
            "Guess lower!\n",
            "Guess higher!\n"
          ]
        }
      ],
      "source": [
        "import random\n",
        "\n",
        "def play_game():\n",
        "    # Get difficulty level from user\n",
        "    difficulty = input(\"Choose difficulty level (Easy, Medium, Hard): \").lower()\n",
        "\n",
        "    # Set number of lives based on difficulty\n",
        "    if difficulty == \"easy\":\n",
        "        lives = 7\n",
        "    elif difficulty == \"medium\":\n",
        "        lives = 5\n",
        "    elif difficulty == \"hard\":\n",
        "        lives = 3\n",
        "    else:\n",
        "        print(\"Invalid difficulty level\")\n",
        "        return\n",
        "\n",
        "    # Generate a random number between 1 and 100\n",
        "    secret_number = random.randint(1, 100)\n",
        "\n",
        "    # Play the guessing game\n",
        "    while True:\n",
        "        guess = int(input(\"Guess the number (1-100): \"))\n",
        "\n",
        "        if guess == secret_number:\n",
        "            print(\"Congratulations! You guessed the number in\", lives, \"guesses!\")\n",
        "            break\n",
        "        elif guess < secret_number:\n",
        "            print(\"Guess higher!\")\n",
        "            lives -= 1\n",
        "        else:\n",
        "            print(\"Guess lower!\")\n",
        "            lives -= 1\n",
        "\n",
        "        if lives == 0:\n",
        "            print(\"You ran out of lives! The secret number was\", secret_number)\n",
        "            break\n",
        "\n",
        "    # Ask user if they want to play again\n",
        "    play_again = input(\"Do you want to play again? (y/n): \").lower()\n",
        "    if play_again == \"y\":\n",
        "        play_game()\n",
        "    else:\n",
        "        print(\"Thanks for playing!\")\n",
        "\n",
        "# Start the game\n",
        "play_game()"
      ]
    }
  ]
}